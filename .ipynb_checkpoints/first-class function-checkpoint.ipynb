{
 "cells": [
  {
   "cell_type": "code",
   "execution_count": null,
   "metadata": {
    "collapsed": true
   },
   "outputs": [],
   "source": [
    "print(\"Hello World!!\")"
   ]
  },
  {
   "cell_type": "code",
   "execution_count": 4,
   "metadata": {
    "collapsed": false
   },
   "outputs": [
    {
     "name": "stdout",
     "output_type": "stream",
     "text": [
      "15FaoMV\n"
     ]
    }
   ],
   "source": [
    "import random\n",
    "\n",
    "\n",
    "alphabet_lower = \"abcdefghijklmnopqrstuvwxyz\"\n",
    "alphabet_upper = alphabet_lower.upper()\n",
    "\n",
    "string_numbers = \"0123456789\"\n",
    "\n",
    "random_base_string = alphabet_lower + alphabet_upper + string_numbers\n",
    "\n",
    "test = \"\".join(random.sample(random_base_string, random.randint(5, 8)))\n",
    "print(test)"
   ]
  },
  {
   "cell_type": "markdown",
   "metadata": {},
   "source": [
    "### seven callable things\n",
    "\n",
    "* custom defined function\n",
    "* built-in function\n",
    "* built-in method\n",
    "* method\n",
    "* class\n",
    "* class object\n",
    "* generator function\n"
   ]
  },
  {
   "cell_type": "code",
   "execution_count": 5,
   "metadata": {
    "collapsed": false
   },
   "outputs": [
    {
     "name": "stdout",
     "output_type": "stream",
     "text": [
      "15FaoMV\n"
     ]
    }
   ],
   "source": []
  },
  {
   "cell_type": "code",
   "execution_count": null,
   "metadata": {
    "collapsed": true
   },
   "outputs": [],
   "source": []
  }
 ],
 "metadata": {
  "kernelspec": {
   "display_name": "Python [Root]",
   "language": "python",
   "name": "Python [Root]"
  },
  "language_info": {
   "codemirror_mode": {
    "name": "ipython",
    "version": 3
   },
   "file_extension": ".py",
   "mimetype": "text/x-python",
   "name": "python",
   "nbconvert_exporter": "python",
   "pygments_lexer": "ipython3",
   "version": "3.5.1"
  }
 },
 "nbformat": 4,
 "nbformat_minor": 0
}
